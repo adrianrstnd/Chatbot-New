{
 "cells": [
  {
   "cell_type": "code",
   "execution_count": 2,
   "metadata": {},
   "outputs": [
    {
     "data": {
      "text/plain": [
       "{'ids': [],\n",
       " 'embeddings': None,\n",
       " 'documents': [],\n",
       " 'uris': None,\n",
       " 'data': None,\n",
       " 'metadatas': [],\n",
       " 'included': [<IncludeEnum.documents: 'documents'>,\n",
       "  <IncludeEnum.metadatas: 'metadatas'>]}"
      ]
     },
     "execution_count": 2,
     "metadata": {},
     "output_type": "execute_result"
    }
   ],
   "source": [
    "import chromadb\n",
    "\n",
    "client = chromadb.PersistentClient(path='chroma_db')\n",
    "\n",
    "collection = client.get_or_create_collection('TESTING')\n",
    "collection.get() "
   ]
  },
  {
   "cell_type": "code",
   "execution_count": 13,
   "metadata": {},
   "outputs": [
    {
     "data": {
      "text/plain": [
       "{'ids': [['b13dfb4d-d2e1-4e8d-9be4-45a3553e25cb',\n",
       "   '8e4fa629-557c-472e-b1a3-0da661fefc28']],\n",
       " 'embeddings': None,\n",
       " 'documents': [['Semangat\\nBekerja dengan motivasi dan komitmen tinggi, serta antusias.\\nKerjasama\\nBerkemampuan dan berkemauan untuk bekerjasama dengan orang lain.\\nUnggul\\nBerkomitmen untuk menjadi yang terunggul dalam setiap aktifitasnya, dengan mengacu kepada standar internasional tertinggi.\\nKarakter Universitas Esa Unggul itu disingkat dalam dua kata yaitu\\nVISI EMASKU\\nKata EMAS yang menjadi singkatan nilai tersebut, selain mempresentasi sebutan kampus Universitas Esa Unggul yaitu Kampus Emas, juga melambangkan sesuatu yang mulia. Karena emas adalah logam mulia. Emas tidak berkarat, tidak rusak termakan jaman, dan selalu berharga dan relevan dari masa ke masa. Begitupula dengan karakter dari sivitas akademika UEU.',\n",
       "   'KARAKTER ESA UNGGUL\\nKarakter Universitas Esa Unggul yang harus dipedomani dan menjadi ciri dari seluruh sivitas akademikanya, terutama para lulusannya\\nVisioner\\nBerwawasan jauh ke masa depan.\\nEtis\\nBermartabat, bersikap dan berperilaku terhormat, sopan, bersusila, menjunjung tinggi nilai-nilai moral seperti kejujuran, toleransi, keadilan, demokrasi, sikap ilmiah, penghargaan terhadap perbedaan pendapat dan tanggung jawab dalam pengelolaan dan pengambilan keputusan, serta dalam menjawab permasalahan permasalahn sosial, moral maupun\\nakademik.\\nMotivator\\nBerkemampuan untuk memotivasi diri (berinisiatif) dan memotivasi orang lain (berjiwa kepemimpinan).\\nAdil\\nBerlaku adil dan fair kepada siapa saja disetiap waktu.\\nSemangat\\nBekerja dengan motivasi dan komitmen tinggi, serta antusias.\\nKerjasama']],\n",
       " 'uris': None,\n",
       " 'data': None,\n",
       " 'metadatas': [[{'source': 'user_pdf\\\\Visi-Emasku-Karakter-Esa-Unggul.pdf'},\n",
       "   {'source': 'user_pdf\\\\Visi-Emasku-Karakter-Esa-Unggul.pdf'}]],\n",
       " 'distances': [[1.2544422527196177, 1.4478416831857643]],\n",
       " 'included': [<IncludeEnum.distances: 'distances'>,\n",
       "  <IncludeEnum.documents: 'documents'>,\n",
       "  <IncludeEnum.metadatas: 'metadatas'>]}"
      ]
     },
     "execution_count": 13,
     "metadata": {},
     "output_type": "execute_result"
    }
   ],
   "source": [
    "collection.query(query_texts=[\"apa itu visi emas\"],n_results=2)"
   ]
  }
 ],
 "metadata": {
  "kernelspec": {
   "display_name": "venv",
   "language": "python",
   "name": "python3"
  },
  "language_info": {
   "codemirror_mode": {
    "name": "ipython",
    "version": 3
   },
   "file_extension": ".py",
   "mimetype": "text/x-python",
   "name": "python",
   "nbconvert_exporter": "python",
   "pygments_lexer": "ipython3",
   "version": "3.10.6"
  }
 },
 "nbformat": 4,
 "nbformat_minor": 2
}
