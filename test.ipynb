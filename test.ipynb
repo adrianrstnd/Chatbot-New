{
 "cells": [
  {
   "cell_type": "code",
   "execution_count": 1,
   "metadata": {},
   "outputs": [
    {
     "data": {
      "text/plain": [
       "{'ids': ['530e6690-cfab-4f2e-a778-3cf3e22e2448'],\n",
       " 'embeddings': None,\n",
       " 'documents': ['Jadwal BAP\\nPa Bowo:\\nSenin: 07.00 - 15.00\\nRabu: 07.00 - 15.00\\nJumat: 07.00 - 15.00\\nNo telepon: 082112398143\\nBu Indri:\\nSenin: 09.00 - 17.00\\nRabu: 09.00 - 17.00\\nKamis: 07.00 - 15.00\\nJumat: Libur\\nNo telepon: 082112398144\\nPembuatan KTM\\nUntuk Pembuatan KTM dapat menemui Pa Bowo di Ruangan BAP Lantai 4'],\n",
       " 'uris': None,\n",
       " 'data': None,\n",
       " 'metadatas': [{'source': 'user_pdf\\\\c87fa1cd-86f9-48c6-a77a-f4aea3dd5845\\\\Jadwal BAP.pdf'}],\n",
       " 'included': [<IncludeEnum.documents: 'documents'>,\n",
       "  <IncludeEnum.metadatas: 'metadatas'>]}"
      ]
     },
     "execution_count": 1,
     "metadata": {},
     "output_type": "execute_result"
    }
   ],
   "source": [
    "import chromadb\n",
    "\n",
    "client = chromadb.PersistentClient(path='chroma_db')\n",
    "\n",
    "collection = client.get_or_create_collection('TESTING')\n",
    "collection.get() "
   ]
  },
  {
   "cell_type": "code",
   "execution_count": 3,
   "metadata": {},
   "outputs": [
    {
     "name": "stderr",
     "output_type": "stream",
     "text": [
      "C:\\Users\\adria\\.cache\\chroma\\onnx_models\\all-MiniLM-L6-v2\\onnx.tar.gz: 100%|██████████| 79.3M/79.3M [01:20<00:00, 1.03MiB/s]\n",
      "Number of requested results 2 is greater than number of elements in index 1, updating n_results = 1\n"
     ]
    },
    {
     "data": {
      "text/plain": [
       "{'ids': [['530e6690-cfab-4f2e-a778-3cf3e22e2448']],\n",
       " 'embeddings': None,\n",
       " 'documents': [['Jadwal BAP\\nPa Bowo:\\nSenin: 07.00 - 15.00\\nRabu: 07.00 - 15.00\\nJumat: 07.00 - 15.00\\nNo telepon: 082112398143\\nBu Indri:\\nSenin: 09.00 - 17.00\\nRabu: 09.00 - 17.00\\nKamis: 07.00 - 15.00\\nJumat: Libur\\nNo telepon: 082112398144\\nPembuatan KTM\\nUntuk Pembuatan KTM dapat menemui Pa Bowo di Ruangan BAP Lantai 4']],\n",
       " 'uris': None,\n",
       " 'data': None,\n",
       " 'metadatas': [[{'source': 'user_pdf\\\\c87fa1cd-86f9-48c6-a77a-f4aea3dd5845\\\\Jadwal BAP.pdf'}]],\n",
       " 'distances': [[1.6923737302611683]],\n",
       " 'included': [<IncludeEnum.distances: 'distances'>,\n",
       "  <IncludeEnum.documents: 'documents'>,\n",
       "  <IncludeEnum.metadatas: 'metadatas'>]}"
      ]
     },
     "execution_count": 3,
     "metadata": {},
     "output_type": "execute_result"
    }
   ],
   "source": [
    "collection.query(query_texts=[\"jadwal bap\"],n_results=2)"
   ]
  }
 ],
 "metadata": {
  "kernelspec": {
   "display_name": "venv",
   "language": "python",
   "name": "python3"
  },
  "language_info": {
   "codemirror_mode": {
    "name": "ipython",
    "version": 3
   },
   "file_extension": ".py",
   "mimetype": "text/x-python",
   "name": "python",
   "nbconvert_exporter": "python",
   "pygments_lexer": "ipython3",
   "version": "3.10.6"
  }
 },
 "nbformat": 4,
 "nbformat_minor": 2
}
